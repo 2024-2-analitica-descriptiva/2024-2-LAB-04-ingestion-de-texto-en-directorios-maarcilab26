{
 "cells": [
  {
   "cell_type": "code",
   "execution_count": 1,
   "metadata": {},
   "outputs": [
    {
     "name": "stdout",
     "output_type": "stream",
     "text": [
      "Archivos descomprimidos\n"
     ]
    }
   ],
   "source": [
    "import zipfile\n",
    "import os\n",
    "\n",
    "# Ruta del archivo ZIP\n",
    "zip_file_path = \"../files/input.zip\"\n",
    "\n",
    "#Verificar si el archivo ZIP existe\n",
    "if os.path.exists(zip_file_path):\n",
    "\n",
    "    # Descomprimir el archivo ZIP\n",
    "    with zipfile.ZipFile(zip_file_path, 'r') as zip_ref:\n",
    "        zip_ref.extractall(\"../files\")\n",
    "\n",
    "    print(\"Archivos descomprimidos\")\n",
    "else:\n",
    "    print(f\"No se encuentra el archivo: {zip_file_path}\")"
   ]
  },
  {
   "cell_type": "code",
   "execution_count": 5,
   "metadata": {},
   "outputs": [],
   "source": [
    "import os\n",
    "import csv\n",
    "\n",
    "def clean_text(text):\n",
    "    # Eliminar comillas al principio y al final de la frase\n",
    "    text = text.strip('\"').strip(\"'\")\n",
    "    # Eliminar comillas internas en la frase\n",
    "    text = text.replace('\"', '').replace(\"'\", \"\")\n",
    "    return text\n",
    "\n",
    "# Rutas de entrada y salida\n",
    "#traind\n",
    "train_path = os.path.join(\"..\", \"files\", \"input\", \"train\")\n",
    "output_file_train_path = \"../files/output/train_dataset.csv\"\n",
    "\n",
    "\n",
    "#test\n",
    "test_path = os.path.join(\"..\", \"files\", \"input\", \"test\")\n",
    "output_file_test_path = \"../files/output/test_dataset.csv\"\n",
    "\n",
    "\n",
    "\n",
    "def transform (x):\n",
    "    phrase = []\n",
    "    target = []\n",
    "    for sentimiento in [\"negative\", \"neutral\", \"positive\"]:\n",
    "        dir = os.path.join(x, sentimiento)\n",
    "        for filename in os.listdir(dir):\n",
    "            nom_archivo = os.path.join(dir, filename)\n",
    "            with open(nom_archivo, \"r\", encoding=\"utf-8\") as file:\n",
    "                content = file.readline().strip()  # Usamos strip para eliminar saltos de línea innecesarios\n",
    "                cleaned_content = clean_text(content)  # Limpiamos las comillas\n",
    "                phrase.append(cleaned_content)\n",
    "                target.append(sentimiento)\n",
    "\n",
    "    # Verificar que las frases no tienen comillas\n",
    "    for ph in phrase[:10]:  # Mostrar solo las primeras 10 frases para verificar\n",
    "        print(f\"Processed phrase: {ph}\")\n",
    "\n",
    "    # Escribir los datos en el archivo CSV\n",
    "    if x == train_path:\n",
    "        os.makedirs(os.path.dirname(output_file_train_path), exist_ok=True)\n",
    "\n",
    "        with open(output_file_train_path, mode='w', newline='', encoding='utf-8') as file:\n",
    "            writer = csv.writer(file)\n",
    "            writer.writerow([\"phrase\", \"target\"])\n",
    "            for ph, tg in zip(phrase, target):\n",
    "                writer.writerow([ph, tg])\n",
    "        \n",
    "    if x== test_path:\n",
    "        os.makedirs(os.path.dirname(output_file_test_path), exist_ok=True)\n",
    "        with open(output_file_test_path, mode='w', newline='', encoding='utf-8') as file:\n",
    "            writer = csv.writer(file)\n",
    "            writer.writerow([\"phrase\", \"target\"])\n",
    "            for ph, tg in zip(phrase, target):\n",
    "                writer.writerow([ph, tg])\n",
    "\n",
    "    print(\"Archivo CSV generado exitosamente en la carpeta 'output'.\")"
   ]
  },
  {
   "cell_type": "code",
   "execution_count": 6,
   "metadata": {},
   "outputs": [
    {
     "name": "stdout",
     "output_type": "stream",
     "text": [
      "Processed phrase: The real estate company posted a net loss of +ï¿½  x201a -ï¿½ 59.3 million +ï¿½  x201a -ï¿½ 0.21 per share compared with a net profit of +ï¿½  x201a -ï¿½ 31 million +ï¿½  x201a -ï¿½ 0.11 per share for the corresponding quarter of 2007\n",
      "Processed phrase: The EU Commission said earlier it had fined ThyssenKrupp , United Technologies Corp s Otis , Schindler AG and Kone Oyj a total of 992.3 mln eur for alleged cartel activity in the lift market going back twelve years\n",
      "Processed phrase: Cargo traffic fell 1 % year-on-year to 8,561 tonnes in September 2009\n",
      "Processed phrase: Finnish media group Talentum has issued a profit warning\n",
      "Processed phrase: Net profit fell by almost half to +ï¿½ 5.5 million from +ï¿½ 9.4 million at the end of 2007\n",
      "Processed phrase: Cash flow from operations in January-December 2008 was a negative EUR 18.1 mn compared to EUR 39.0 mn in the corresponding period in 2007\n",
      "Processed phrase: Diluted earnings per share ( EPS ) stood at EUR 0.25 versus EUR 0.42\n",
      "Processed phrase: Production levels have been agreed with producers a long time ago , so a fall in consumption will lead to losses\n",
      "Processed phrase: Market share decreased on the route between Helsinki in Finland and Tallinn in Estonia by 0.1 percentage points to 24.8 %\n",
      "Processed phrase: Finnish developer and manufacturer of mobile phone chargers Salcomp Plc OMX Helsinki : SAL1V on Wednesday 19 November lowered its full-year net sales estimate\n",
      "Archivo CSV generado exitosamente en la carpeta 'output'.\n",
      "Processed phrase: Jan. 6 -- Ford is struggling in the face of slowing truck and SUV sales and a surfeit of up-to-date , gotta-have cars\n",
      "Processed phrase: ( ADPnews ) - Feb 3 , 2010 - Finland-based steel maker Rautaruukki Oyj ( HEL : RTRKS ) , or Ruukki , said today it slipped to a larger-than-expected pretax loss of EUR 46 million ( USD 64.5 m ) in the fourth quarter of 2009 from\n",
      "Processed phrase: In Q2 of 2009 , profit before taxes amounted to EUR 13.6 mn , down from EUR 26.8 mn in Q2 of 2008\n",
      "Processed phrase: ADPnews - Jul 17 , 2009 - Finland-based steel maker Rautaruukki Oyj Ruukki HEL : RTRKS said today it slipped to a net loss of EUR 184 million USD 259.7 m for the first half of 2009 from a net profit of EUR\n",
      "Processed phrase: Salonen added that data shows producers  pulp inventories in North America are declining .\n",
      "Processed phrase: In the third quarter of fiscal 2008 Efore swung to a net loss of EUR 400,000 versus a net profit of EUR 200,000 for the corresponding period of fiscal 2007\n",
      "Processed phrase: Konecranes Oyj KCR1V FH fell 5.5 percent to 20.51 euros , the biggest fall since June\n",
      "Processed phrase: Acando AB ( ACANB SS ) fell 8.9 percent to 13.35 kronor , the lowest close since Dec. 11\n",
      "Processed phrase: In Q1 of 2009 , the company s operating loss totalled EUR 0.3 mn , compared to a profit of EUR 3.6 mn in Q1 of 2008\n",
      "Processed phrase: Operating loss amounted to EUR 0.9 mn in the first half of 2006 compared to a profit of EUR 0.5 mn in the first half of 2005\n",
      "Archivo CSV generado exitosamente en la carpeta 'output'.\n"
     ]
    }
   ],
   "source": [
    "transform(train_path)\n",
    "transform(test_path)"
   ]
  }
 ],
 "metadata": {
  "kernelspec": {
   "display_name": ".venv",
   "language": "python",
   "name": "python3"
  },
  "language_info": {
   "codemirror_mode": {
    "name": "ipython",
    "version": 3
   },
   "file_extension": ".py",
   "mimetype": "text/x-python",
   "name": "python",
   "nbconvert_exporter": "python",
   "pygments_lexer": "ipython3",
   "version": "3.10.9"
  }
 },
 "nbformat": 4,
 "nbformat_minor": 2
}
